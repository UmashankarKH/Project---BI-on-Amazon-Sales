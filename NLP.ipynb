{
  "nbformat": 4,
  "nbformat_minor": 0,
  "metadata": {
    "colab": {
      "provenance": [],
      "authorship_tag": "ABX9TyMgQAEy0vPD6hNwdltXnJ8N",
      "include_colab_link": true
    },
    "kernelspec": {
      "name": "python3",
      "display_name": "Python 3"
    },
    "language_info": {
      "name": "python"
    }
  },
  "cells": [
    {
      "cell_type": "markdown",
      "metadata": {
        "id": "view-in-github",
        "colab_type": "text"
      },
      "source": [
        "<a href=\"https://colab.research.google.com/github/UmashankarKH/Project-BI-on-Amazon-Sales/blob/main/NLP.ipynb\" target=\"_parent\"><img src=\"https://colab.research.google.com/assets/colab-badge.svg\" alt=\"Open In Colab\"/></a>"
      ]
    },
    {
      "cell_type": "markdown",
      "source": [
        "Document Term Matrix\n"
      ],
      "metadata": {
        "id": "VWEvcXpIwubg"
      }
    },
    {
      "cell_type": "code",
      "source": [
        "import pandas as pd\n",
        "reviews_url = 'https://raw.githubusercontent.com/skathirmani/datasets/refs/heads/main/imdb_subset.csv'\n",
        "imdb = pd.read_csv(reviews_url)\n",
        "print(imdb.head())\n",
        "imdb.shape"
      ],
      "metadata": {
        "colab": {
          "base_uri": "https://localhost:8080/"
        },
        "id": "Vw6WdFJ8w0zT",
        "outputId": "facdf730-b740-4fd6-ce8e-97d43accd952"
      },
      "execution_count": 2,
      "outputs": [
        {
          "output_type": "stream",
          "name": "stdout",
          "text": [
            "                                              review sentiment\n",
            "0  I can't say that this movie deserves a ten, be...  positive\n",
            "1  Yet again, Madhur Bhandarkar takes you on a ri...  positive\n",
            "2  Angela Lansbury plays Eglantine a middle aged ...  positive\n",
            "3  the tortuous emotional impact is degrading, wh...  negative\n",
            "4  W. Somerset Maugham's Of Human Bondage is supp...  negative\n"
          ]
        },
        {
          "output_type": "execute_result",
          "data": {
            "text/plain": [
              "(10000, 2)"
            ]
          },
          "metadata": {},
          "execution_count": 2
        }
      ]
    },
    {
      "cell_type": "code",
      "source": [
        "docs = imdb['review'].str.lower()\n",
        "from sklearn.model_selection import train_test_split\n",
        "\n",
        "X_docs_train, X_docs_test, y_train, y_test = train_test_split(\n",
        "    docs,\n",
        "    imdb['sentiment'],\n",
        "    test_size=0.2,\n",
        "    random_state=1\n",
        ")\n",
        "X_docs_train.shape, X_docs_test.shape\n"
      ],
      "metadata": {
        "colab": {
          "base_uri": "https://localhost:8080/"
        },
        "id": "vAa7ErGTxJ7I",
        "outputId": "88af624a-16ad-45a2-fdfc-a34822590e9a"
      },
      "execution_count": 7,
      "outputs": [
        {
          "output_type": "execute_result",
          "data": {
            "text/plain": [
              "((8000,), (2000,))"
            ]
          },
          "metadata": {},
          "execution_count": 7
        }
      ]
    },
    {
      "cell_type": "code",
      "source": [
        "from sklearn.feature_extraction.text import CountVectorizer\n",
        "\n",
        "vectorizer = CountVectorizer().fit(X_docs_train)\n",
        "X_dtm_train = vectorizer.transform(X_docs_train)\n",
        "X_dtm_test = vectorizer.transform(X_docs_test)\n"
      ],
      "metadata": {
        "id": "HgGx0m3yy6XG"
      },
      "execution_count": 9,
      "outputs": []
    },
    {
      "cell_type": "code",
      "source": [
        "X_dtm_train"
      ],
      "metadata": {
        "colab": {
          "base_uri": "https://localhost:8080/"
        },
        "id": "LLmGQwvO0ufi",
        "outputId": "95424473-c341-41d0-dc99-88963aa3b833"
      },
      "execution_count": 10,
      "outputs": [
        {
          "output_type": "execute_result",
          "data": {
            "text/plain": [
              "<8000x47723 sparse matrix of type '<class 'numpy.int64'>'\n",
              "\twith 1087561 stored elements in Compressed Sparse Row format>"
            ]
          },
          "metadata": {},
          "execution_count": 10
        }
      ]
    },
    {
      "cell_type": "code",
      "source": [],
      "metadata": {
        "id": "Y4yLDQLC1BxQ"
      },
      "execution_count": null,
      "outputs": []
    }
  ]
}